{
 "cells": [
  {
   "cell_type": "code",
   "execution_count": 1,
   "metadata": {},
   "outputs": [
    {
     "name": "stderr",
     "output_type": "stream",
     "text": [
      "C:\\Users\\Nitin\\anaconda3 new\\lib\\site-packages\\tensorflow\\python\\framework\\dtypes.py:516: FutureWarning: Passing (type, 1) or '1type' as a synonym of type is deprecated; in a future version of numpy, it will be understood as (type, (1,)) / '(1,)type'.\n",
      "  _np_qint8 = np.dtype([(\"qint8\", np.int8, 1)])\n",
      "C:\\Users\\Nitin\\anaconda3 new\\lib\\site-packages\\tensorflow\\python\\framework\\dtypes.py:517: FutureWarning: Passing (type, 1) or '1type' as a synonym of type is deprecated; in a future version of numpy, it will be understood as (type, (1,)) / '(1,)type'.\n",
      "  _np_quint8 = np.dtype([(\"quint8\", np.uint8, 1)])\n",
      "C:\\Users\\Nitin\\anaconda3 new\\lib\\site-packages\\tensorflow\\python\\framework\\dtypes.py:518: FutureWarning: Passing (type, 1) or '1type' as a synonym of type is deprecated; in a future version of numpy, it will be understood as (type, (1,)) / '(1,)type'.\n",
      "  _np_qint16 = np.dtype([(\"qint16\", np.int16, 1)])\n",
      "C:\\Users\\Nitin\\anaconda3 new\\lib\\site-packages\\tensorflow\\python\\framework\\dtypes.py:519: FutureWarning: Passing (type, 1) or '1type' as a synonym of type is deprecated; in a future version of numpy, it will be understood as (type, (1,)) / '(1,)type'.\n",
      "  _np_quint16 = np.dtype([(\"quint16\", np.uint16, 1)])\n",
      "C:\\Users\\Nitin\\anaconda3 new\\lib\\site-packages\\tensorflow\\python\\framework\\dtypes.py:520: FutureWarning: Passing (type, 1) or '1type' as a synonym of type is deprecated; in a future version of numpy, it will be understood as (type, (1,)) / '(1,)type'.\n",
      "  _np_qint32 = np.dtype([(\"qint32\", np.int32, 1)])\n",
      "C:\\Users\\Nitin\\anaconda3 new\\lib\\site-packages\\tensorflow\\python\\framework\\dtypes.py:525: FutureWarning: Passing (type, 1) or '1type' as a synonym of type is deprecated; in a future version of numpy, it will be understood as (type, (1,)) / '(1,)type'.\n",
      "  np_resource = np.dtype([(\"resource\", np.ubyte, 1)])\n",
      "C:\\Users\\Nitin\\anaconda3 new\\lib\\site-packages\\tensorboard\\compat\\tensorflow_stub\\dtypes.py:541: FutureWarning: Passing (type, 1) or '1type' as a synonym of type is deprecated; in a future version of numpy, it will be understood as (type, (1,)) / '(1,)type'.\n",
      "  _np_qint8 = np.dtype([(\"qint8\", np.int8, 1)])\n",
      "C:\\Users\\Nitin\\anaconda3 new\\lib\\site-packages\\tensorboard\\compat\\tensorflow_stub\\dtypes.py:542: FutureWarning: Passing (type, 1) or '1type' as a synonym of type is deprecated; in a future version of numpy, it will be understood as (type, (1,)) / '(1,)type'.\n",
      "  _np_quint8 = np.dtype([(\"quint8\", np.uint8, 1)])\n",
      "C:\\Users\\Nitin\\anaconda3 new\\lib\\site-packages\\tensorboard\\compat\\tensorflow_stub\\dtypes.py:543: FutureWarning: Passing (type, 1) or '1type' as a synonym of type is deprecated; in a future version of numpy, it will be understood as (type, (1,)) / '(1,)type'.\n",
      "  _np_qint16 = np.dtype([(\"qint16\", np.int16, 1)])\n",
      "C:\\Users\\Nitin\\anaconda3 new\\lib\\site-packages\\tensorboard\\compat\\tensorflow_stub\\dtypes.py:544: FutureWarning: Passing (type, 1) or '1type' as a synonym of type is deprecated; in a future version of numpy, it will be understood as (type, (1,)) / '(1,)type'.\n",
      "  _np_quint16 = np.dtype([(\"quint16\", np.uint16, 1)])\n",
      "C:\\Users\\Nitin\\anaconda3 new\\lib\\site-packages\\tensorboard\\compat\\tensorflow_stub\\dtypes.py:545: FutureWarning: Passing (type, 1) or '1type' as a synonym of type is deprecated; in a future version of numpy, it will be understood as (type, (1,)) / '(1,)type'.\n",
      "  _np_qint32 = np.dtype([(\"qint32\", np.int32, 1)])\n",
      "C:\\Users\\Nitin\\anaconda3 new\\lib\\site-packages\\tensorboard\\compat\\tensorflow_stub\\dtypes.py:550: FutureWarning: Passing (type, 1) or '1type' as a synonym of type is deprecated; in a future version of numpy, it will be understood as (type, (1,)) / '(1,)type'.\n",
      "  np_resource = np.dtype([(\"resource\", np.ubyte, 1)])\n"
     ]
    },
    {
     "data": {
      "text/plain": [
       "'1.14.0'"
      ]
     },
     "execution_count": 1,
     "metadata": {},
     "output_type": "execute_result"
    }
   ],
   "source": [
    "# Artificial Neural Network\n",
    "\n",
    "# Importing the libraries\n",
    "import numpy as np\n",
    "import pandas as pd\n",
    "import tensorflow as tf\n",
    "tf.__version__"
   ]
  },
  {
   "cell_type": "code",
   "execution_count": 2,
   "metadata": {},
   "outputs": [],
   "source": [
    "# Importing the dataset\n",
    "dataset = pd.read_csv('E:/Machine Learning/P14-Part8-Deep-Learning/P14-Part8-Deep-Learning/Section 35 - Artificial Neural Networks (ANN)/Python/Churn_Modelling.csv')\n",
    "X = dataset.iloc[:, 3:-1].values\n",
    "y = dataset.iloc[:, -1].values"
   ]
  },
  {
   "cell_type": "code",
   "execution_count": 3,
   "metadata": {},
   "outputs": [
    {
     "data": {
      "text/html": [
       "<div>\n",
       "<style scoped>\n",
       "    .dataframe tbody tr th:only-of-type {\n",
       "        vertical-align: middle;\n",
       "    }\n",
       "\n",
       "    .dataframe tbody tr th {\n",
       "        vertical-align: top;\n",
       "    }\n",
       "\n",
       "    .dataframe thead th {\n",
       "        text-align: right;\n",
       "    }\n",
       "</style>\n",
       "<table border=\"1\" class=\"dataframe\">\n",
       "  <thead>\n",
       "    <tr style=\"text-align: right;\">\n",
       "      <th></th>\n",
       "      <th>RowNumber</th>\n",
       "      <th>CustomerId</th>\n",
       "      <th>Surname</th>\n",
       "      <th>CreditScore</th>\n",
       "      <th>Geography</th>\n",
       "      <th>Gender</th>\n",
       "      <th>Age</th>\n",
       "      <th>Tenure</th>\n",
       "      <th>Balance</th>\n",
       "      <th>NumOfProducts</th>\n",
       "      <th>HasCrCard</th>\n",
       "      <th>IsActiveMember</th>\n",
       "      <th>EstimatedSalary</th>\n",
       "      <th>Exited</th>\n",
       "    </tr>\n",
       "  </thead>\n",
       "  <tbody>\n",
       "    <tr>\n",
       "      <th>0</th>\n",
       "      <td>1</td>\n",
       "      <td>15634602</td>\n",
       "      <td>Hargrave</td>\n",
       "      <td>619</td>\n",
       "      <td>France</td>\n",
       "      <td>Female</td>\n",
       "      <td>42</td>\n",
       "      <td>2</td>\n",
       "      <td>0.00</td>\n",
       "      <td>1</td>\n",
       "      <td>1</td>\n",
       "      <td>1</td>\n",
       "      <td>101348.88</td>\n",
       "      <td>1</td>\n",
       "    </tr>\n",
       "    <tr>\n",
       "      <th>1</th>\n",
       "      <td>2</td>\n",
       "      <td>15647311</td>\n",
       "      <td>Hill</td>\n",
       "      <td>608</td>\n",
       "      <td>Spain</td>\n",
       "      <td>Female</td>\n",
       "      <td>41</td>\n",
       "      <td>1</td>\n",
       "      <td>83807.86</td>\n",
       "      <td>1</td>\n",
       "      <td>0</td>\n",
       "      <td>1</td>\n",
       "      <td>112542.58</td>\n",
       "      <td>0</td>\n",
       "    </tr>\n",
       "    <tr>\n",
       "      <th>2</th>\n",
       "      <td>3</td>\n",
       "      <td>15619304</td>\n",
       "      <td>Onio</td>\n",
       "      <td>502</td>\n",
       "      <td>France</td>\n",
       "      <td>Female</td>\n",
       "      <td>42</td>\n",
       "      <td>8</td>\n",
       "      <td>159660.80</td>\n",
       "      <td>3</td>\n",
       "      <td>1</td>\n",
       "      <td>0</td>\n",
       "      <td>113931.57</td>\n",
       "      <td>1</td>\n",
       "    </tr>\n",
       "    <tr>\n",
       "      <th>3</th>\n",
       "      <td>4</td>\n",
       "      <td>15701354</td>\n",
       "      <td>Boni</td>\n",
       "      <td>699</td>\n",
       "      <td>France</td>\n",
       "      <td>Female</td>\n",
       "      <td>39</td>\n",
       "      <td>1</td>\n",
       "      <td>0.00</td>\n",
       "      <td>2</td>\n",
       "      <td>0</td>\n",
       "      <td>0</td>\n",
       "      <td>93826.63</td>\n",
       "      <td>0</td>\n",
       "    </tr>\n",
       "    <tr>\n",
       "      <th>4</th>\n",
       "      <td>5</td>\n",
       "      <td>15737888</td>\n",
       "      <td>Mitchell</td>\n",
       "      <td>850</td>\n",
       "      <td>Spain</td>\n",
       "      <td>Female</td>\n",
       "      <td>43</td>\n",
       "      <td>2</td>\n",
       "      <td>125510.82</td>\n",
       "      <td>1</td>\n",
       "      <td>1</td>\n",
       "      <td>1</td>\n",
       "      <td>79084.10</td>\n",
       "      <td>0</td>\n",
       "    </tr>\n",
       "    <tr>\n",
       "      <th>...</th>\n",
       "      <td>...</td>\n",
       "      <td>...</td>\n",
       "      <td>...</td>\n",
       "      <td>...</td>\n",
       "      <td>...</td>\n",
       "      <td>...</td>\n",
       "      <td>...</td>\n",
       "      <td>...</td>\n",
       "      <td>...</td>\n",
       "      <td>...</td>\n",
       "      <td>...</td>\n",
       "      <td>...</td>\n",
       "      <td>...</td>\n",
       "      <td>...</td>\n",
       "    </tr>\n",
       "    <tr>\n",
       "      <th>9995</th>\n",
       "      <td>9996</td>\n",
       "      <td>15606229</td>\n",
       "      <td>Obijiaku</td>\n",
       "      <td>771</td>\n",
       "      <td>France</td>\n",
       "      <td>Male</td>\n",
       "      <td>39</td>\n",
       "      <td>5</td>\n",
       "      <td>0.00</td>\n",
       "      <td>2</td>\n",
       "      <td>1</td>\n",
       "      <td>0</td>\n",
       "      <td>96270.64</td>\n",
       "      <td>0</td>\n",
       "    </tr>\n",
       "    <tr>\n",
       "      <th>9996</th>\n",
       "      <td>9997</td>\n",
       "      <td>15569892</td>\n",
       "      <td>Johnstone</td>\n",
       "      <td>516</td>\n",
       "      <td>France</td>\n",
       "      <td>Male</td>\n",
       "      <td>35</td>\n",
       "      <td>10</td>\n",
       "      <td>57369.61</td>\n",
       "      <td>1</td>\n",
       "      <td>1</td>\n",
       "      <td>1</td>\n",
       "      <td>101699.77</td>\n",
       "      <td>0</td>\n",
       "    </tr>\n",
       "    <tr>\n",
       "      <th>9997</th>\n",
       "      <td>9998</td>\n",
       "      <td>15584532</td>\n",
       "      <td>Liu</td>\n",
       "      <td>709</td>\n",
       "      <td>France</td>\n",
       "      <td>Female</td>\n",
       "      <td>36</td>\n",
       "      <td>7</td>\n",
       "      <td>0.00</td>\n",
       "      <td>1</td>\n",
       "      <td>0</td>\n",
       "      <td>1</td>\n",
       "      <td>42085.58</td>\n",
       "      <td>1</td>\n",
       "    </tr>\n",
       "    <tr>\n",
       "      <th>9998</th>\n",
       "      <td>9999</td>\n",
       "      <td>15682355</td>\n",
       "      <td>Sabbatini</td>\n",
       "      <td>772</td>\n",
       "      <td>Germany</td>\n",
       "      <td>Male</td>\n",
       "      <td>42</td>\n",
       "      <td>3</td>\n",
       "      <td>75075.31</td>\n",
       "      <td>2</td>\n",
       "      <td>1</td>\n",
       "      <td>0</td>\n",
       "      <td>92888.52</td>\n",
       "      <td>1</td>\n",
       "    </tr>\n",
       "    <tr>\n",
       "      <th>9999</th>\n",
       "      <td>10000</td>\n",
       "      <td>15628319</td>\n",
       "      <td>Walker</td>\n",
       "      <td>792</td>\n",
       "      <td>France</td>\n",
       "      <td>Female</td>\n",
       "      <td>28</td>\n",
       "      <td>4</td>\n",
       "      <td>130142.79</td>\n",
       "      <td>1</td>\n",
       "      <td>1</td>\n",
       "      <td>0</td>\n",
       "      <td>38190.78</td>\n",
       "      <td>0</td>\n",
       "    </tr>\n",
       "  </tbody>\n",
       "</table>\n",
       "<p>10000 rows × 14 columns</p>\n",
       "</div>"
      ],
      "text/plain": [
       "      RowNumber  CustomerId    Surname  CreditScore Geography  Gender  Age  \\\n",
       "0             1    15634602   Hargrave          619    France  Female   42   \n",
       "1             2    15647311       Hill          608     Spain  Female   41   \n",
       "2             3    15619304       Onio          502    France  Female   42   \n",
       "3             4    15701354       Boni          699    France  Female   39   \n",
       "4             5    15737888   Mitchell          850     Spain  Female   43   \n",
       "...         ...         ...        ...          ...       ...     ...  ...   \n",
       "9995       9996    15606229   Obijiaku          771    France    Male   39   \n",
       "9996       9997    15569892  Johnstone          516    France    Male   35   \n",
       "9997       9998    15584532        Liu          709    France  Female   36   \n",
       "9998       9999    15682355  Sabbatini          772   Germany    Male   42   \n",
       "9999      10000    15628319     Walker          792    France  Female   28   \n",
       "\n",
       "      Tenure    Balance  NumOfProducts  HasCrCard  IsActiveMember  \\\n",
       "0          2       0.00              1          1               1   \n",
       "1          1   83807.86              1          0               1   \n",
       "2          8  159660.80              3          1               0   \n",
       "3          1       0.00              2          0               0   \n",
       "4          2  125510.82              1          1               1   \n",
       "...      ...        ...            ...        ...             ...   \n",
       "9995       5       0.00              2          1               0   \n",
       "9996      10   57369.61              1          1               1   \n",
       "9997       7       0.00              1          0               1   \n",
       "9998       3   75075.31              2          1               0   \n",
       "9999       4  130142.79              1          1               0   \n",
       "\n",
       "      EstimatedSalary  Exited  \n",
       "0           101348.88       1  \n",
       "1           112542.58       0  \n",
       "2           113931.57       1  \n",
       "3            93826.63       0  \n",
       "4            79084.10       0  \n",
       "...               ...     ...  \n",
       "9995         96270.64       0  \n",
       "9996        101699.77       0  \n",
       "9997         42085.58       1  \n",
       "9998         92888.52       1  \n",
       "9999         38190.78       0  \n",
       "\n",
       "[10000 rows x 14 columns]"
      ]
     },
     "execution_count": 3,
     "metadata": {},
     "output_type": "execute_result"
    }
   ],
   "source": [
    "dataset"
   ]
  },
  {
   "cell_type": "code",
   "execution_count": 4,
   "metadata": {},
   "outputs": [
    {
     "data": {
      "text/plain": [
       "array([[619, 'France', 'Female', ..., 1, 1, 101348.88],\n",
       "       [608, 'Spain', 'Female', ..., 0, 1, 112542.58],\n",
       "       [502, 'France', 'Female', ..., 1, 0, 113931.57],\n",
       "       ...,\n",
       "       [709, 'France', 'Female', ..., 0, 1, 42085.58],\n",
       "       [772, 'Germany', 'Male', ..., 1, 0, 92888.52],\n",
       "       [792, 'France', 'Female', ..., 1, 0, 38190.78]], dtype=object)"
      ]
     },
     "execution_count": 4,
     "metadata": {},
     "output_type": "execute_result"
    }
   ],
   "source": [
    "X"
   ]
  },
  {
   "cell_type": "code",
   "execution_count": 5,
   "metadata": {},
   "outputs": [
    {
     "data": {
      "text/plain": [
       "array([1, 0, 1, ..., 1, 1, 0], dtype=int64)"
      ]
     },
     "execution_count": 5,
     "metadata": {},
     "output_type": "execute_result"
    }
   ],
   "source": [
    "y"
   ]
  },
  {
   "cell_type": "code",
   "execution_count": 6,
   "metadata": {},
   "outputs": [],
   "source": [
    "from sklearn.preprocessing import LabelEncoder\n",
    "le = LabelEncoder()\n",
    "X[:, 2] = le.fit_transform(X[:, 2])"
   ]
  },
  {
   "cell_type": "code",
   "execution_count": 7,
   "metadata": {},
   "outputs": [
    {
     "data": {
      "text/plain": [
       "array([[619, 'France', 0, ..., 1, 1, 101348.88],\n",
       "       [608, 'Spain', 0, ..., 0, 1, 112542.58],\n",
       "       [502, 'France', 0, ..., 1, 0, 113931.57],\n",
       "       ...,\n",
       "       [709, 'France', 0, ..., 0, 1, 42085.58],\n",
       "       [772, 'Germany', 1, ..., 1, 0, 92888.52],\n",
       "       [792, 'France', 0, ..., 1, 0, 38190.78]], dtype=object)"
      ]
     },
     "execution_count": 7,
     "metadata": {},
     "output_type": "execute_result"
    }
   ],
   "source": [
    "X"
   ]
  },
  {
   "cell_type": "code",
   "execution_count": 8,
   "metadata": {},
   "outputs": [],
   "source": [
    "from sklearn.compose import ColumnTransformer\n",
    "from sklearn.preprocessing import OneHotEncoder\n",
    "ct = ColumnTransformer(transformers=[('encoder', OneHotEncoder(), [1])], remainder='passthrough')\n",
    "X = np.array(ct.fit_transform(X))"
   ]
  },
  {
   "cell_type": "code",
   "execution_count": 9,
   "metadata": {},
   "outputs": [
    {
     "data": {
      "text/plain": [
       "array([[1.0, 0.0, 0.0, ..., 1, 1, 101348.88],\n",
       "       [0.0, 0.0, 1.0, ..., 0, 1, 112542.58],\n",
       "       [1.0, 0.0, 0.0, ..., 1, 0, 113931.57],\n",
       "       ...,\n",
       "       [1.0, 0.0, 0.0, ..., 0, 1, 42085.58],\n",
       "       [0.0, 1.0, 0.0, ..., 1, 0, 92888.52],\n",
       "       [1.0, 0.0, 0.0, ..., 1, 0, 38190.78]], dtype=object)"
      ]
     },
     "execution_count": 9,
     "metadata": {},
     "output_type": "execute_result"
    }
   ],
   "source": [
    "X"
   ]
  },
  {
   "cell_type": "code",
   "execution_count": 10,
   "metadata": {},
   "outputs": [],
   "source": [
    "from sklearn.preprocessing import StandardScaler\n",
    "sc = StandardScaler()\n",
    "X = sc.fit_transform(X)"
   ]
  },
  {
   "cell_type": "code",
   "execution_count": 11,
   "metadata": {},
   "outputs": [
    {
     "data": {
      "text/plain": [
       "array([[ 0.99720391, -0.57873591, -0.57380915, ...,  0.64609167,\n",
       "         0.97024255,  0.02188649],\n",
       "       [-1.00280393, -0.57873591,  1.74273971, ..., -1.54776799,\n",
       "         0.97024255,  0.21653375],\n",
       "       [ 0.99720391, -0.57873591, -0.57380915, ...,  0.64609167,\n",
       "        -1.03067011,  0.2406869 ],\n",
       "       ...,\n",
       "       [ 0.99720391, -0.57873591, -0.57380915, ..., -1.54776799,\n",
       "         0.97024255, -1.00864308],\n",
       "       [-1.00280393,  1.72790383, -0.57380915, ...,  0.64609167,\n",
       "        -1.03067011, -0.12523071],\n",
       "       [ 0.99720391, -0.57873591, -0.57380915, ...,  0.64609167,\n",
       "        -1.03067011, -1.07636976]])"
      ]
     },
     "execution_count": 11,
     "metadata": {},
     "output_type": "execute_result"
    }
   ],
   "source": [
    "X"
   ]
  },
  {
   "cell_type": "code",
   "execution_count": 12,
   "metadata": {},
   "outputs": [],
   "source": [
    "from sklearn.model_selection import train_test_split\n",
    "X_train, X_test, y_train, y_test = train_test_split(X, y, test_size = 0.2, random_state = 0)"
   ]
  },
  {
   "cell_type": "code",
   "execution_count": 13,
   "metadata": {},
   "outputs": [
    {
     "data": {
      "text/plain": [
       "array([[-1.00280393, -0.57873591,  1.74273971, ...,  0.64609167,\n",
       "        -1.03067011,  1.10838187],\n",
       "       [-1.00280393,  1.72790383, -0.57380915, ...,  0.64609167,\n",
       "         0.97024255, -0.74759209],\n",
       "       [ 0.99720391, -0.57873591, -0.57380915, ...,  0.64609167,\n",
       "        -1.03067011,  1.48746417],\n",
       "       ...,\n",
       "       [ 0.99720391, -0.57873591, -0.57380915, ...,  0.64609167,\n",
       "        -1.03067011,  1.41441489],\n",
       "       [-1.00280393, -0.57873591,  1.74273971, ...,  0.64609167,\n",
       "         0.97024255,  0.84614739],\n",
       "       [-1.00280393,  1.72790383, -0.57380915, ...,  0.64609167,\n",
       "        -1.03067011,  0.32630495]])"
      ]
     },
     "execution_count": 13,
     "metadata": {},
     "output_type": "execute_result"
    }
   ],
   "source": [
    "X_train"
   ]
  },
  {
   "cell_type": "code",
   "execution_count": 14,
   "metadata": {},
   "outputs": [
    {
     "data": {
      "text/plain": [
       "array([[-1.00280393,  1.72790383, -0.57380915, ...,  0.64609167,\n",
       "         0.97024255,  1.61304597],\n",
       "       [ 0.99720391, -0.57873591, -0.57380915, ...,  0.64609167,\n",
       "        -1.03067011,  0.49753166],\n",
       "       [-1.00280393, -0.57873591,  1.74273971, ...,  0.64609167,\n",
       "         0.97024255, -0.4235611 ],\n",
       "       ...,\n",
       "       [-1.00280393, -0.57873591,  1.74273971, ...,  0.64609167,\n",
       "        -1.03067011,  0.72065149],\n",
       "       [-1.00280393,  1.72790383, -0.57380915, ...,  0.64609167,\n",
       "         0.97024255, -1.54438254],\n",
       "       [-1.00280393,  1.72790383, -0.57380915, ...,  0.64609167,\n",
       "        -1.03067011,  1.61474887]])"
      ]
     },
     "execution_count": 14,
     "metadata": {},
     "output_type": "execute_result"
    }
   ],
   "source": [
    "X_test"
   ]
  },
  {
   "cell_type": "code",
   "execution_count": 15,
   "metadata": {},
   "outputs": [
    {
     "data": {
      "text/plain": [
       "array([0, 0, 0, ..., 0, 0, 1], dtype=int64)"
      ]
     },
     "execution_count": 15,
     "metadata": {},
     "output_type": "execute_result"
    }
   ],
   "source": [
    "y_train"
   ]
  },
  {
   "cell_type": "code",
   "execution_count": 16,
   "metadata": {},
   "outputs": [
    {
     "data": {
      "text/plain": [
       "array([0, 1, 0, ..., 0, 0, 0], dtype=int64)"
      ]
     },
     "execution_count": 16,
     "metadata": {},
     "output_type": "execute_result"
    }
   ],
   "source": [
    "y_test"
   ]
  },
  {
   "cell_type": "code",
   "execution_count": 17,
   "metadata": {},
   "outputs": [
    {
     "name": "stdout",
     "output_type": "stream",
     "text": [
      "WARNING:tensorflow:From C:\\Users\\Nitin\\anaconda3 new\\lib\\site-packages\\tensorflow\\python\\ops\\init_ops.py:1251: calling VarianceScaling.__init__ (from tensorflow.python.ops.init_ops) with dtype is deprecated and will be removed in a future version.\n",
      "Instructions for updating:\n",
      "Call initializer instance with the dtype argument instead of passing it to the constructor\n"
     ]
    }
   ],
   "source": [
    "# Part 2 - Building the ANN\n",
    "\n",
    "# Initializing the ANN\n",
    "ann = tf.keras.models.Sequential()\n",
    "\n",
    "# Adding the input layer and the first hidden layer\n",
    "ann.add(tf.keras.layers.Dense(units=6, activation='relu'))\n",
    "\n",
    "# Adding the second hidden layer\n",
    "ann.add(tf.keras.layers.Dense(units=6, activation='relu'))\n",
    "\n",
    "# Adding the output layer\n",
    "ann.add(tf.keras.layers.Dense(units=1, activation='sigmoid'))\n"
   ]
  },
  {
   "cell_type": "code",
   "execution_count": 18,
   "metadata": {},
   "outputs": [
    {
     "name": "stdout",
     "output_type": "stream",
     "text": [
      "WARNING:tensorflow:From C:\\Users\\Nitin\\anaconda3 new\\lib\\site-packages\\tensorflow\\python\\ops\\nn_impl.py:180: add_dispatch_support.<locals>.wrapper (from tensorflow.python.ops.array_ops) is deprecated and will be removed in a future version.\n",
      "Instructions for updating:\n",
      "Use tf.where in 2.0, which has the same broadcast rule as np.where\n",
      "Epoch 1/100\n",
      "8000/8000 [==============================] - 3s 346us/sample - loss: 0.5306 - acc: 0.7663\n",
      "Epoch 2/100\n",
      "8000/8000 [==============================] - 1s 95us/sample - loss: 0.4562 - acc: 0.7951\n",
      "Epoch 3/100\n",
      "8000/8000 [==============================] - 1s 90us/sample - loss: 0.4390 - acc: 0.7954\n",
      "Epoch 4/100\n",
      "8000/8000 [==============================] - 1s 87us/sample - loss: 0.4299 - acc: 0.8025\n",
      "Epoch 5/100\n",
      "8000/8000 [==============================] - 1s 87us/sample - loss: 0.4202 - acc: 0.8081\n",
      "Epoch 6/100\n",
      "8000/8000 [==============================] - 1s 94us/sample - loss: 0.4090 - acc: 0.8173\n",
      "Epoch 7/100\n",
      "8000/8000 [==============================] - 1s 89us/sample - loss: 0.3948 - acc: 0.8284\n",
      "Epoch 8/100\n",
      "8000/8000 [==============================] - 1s 111us/sample - loss: 0.3817 - acc: 0.8413\n",
      "Epoch 9/100\n",
      "8000/8000 [==============================] - 1s 91us/sample - loss: 0.3724 - acc: 0.8460\n",
      "Epoch 10/100\n",
      "8000/8000 [==============================] - 1s 100us/sample - loss: 0.3659 - acc: 0.8481\n",
      "Epoch 11/100\n",
      "8000/8000 [==============================] - 1s 98us/sample - loss: 0.3619 - acc: 0.8508\n",
      "Epoch 12/100\n",
      "8000/8000 [==============================] - 1s 117us/sample - loss: 0.3591 - acc: 0.8519\n",
      "Epoch 13/100\n",
      "8000/8000 [==============================] - 1s 108us/sample - loss: 0.3569 - acc: 0.8524\n",
      "Epoch 14/100\n",
      "8000/8000 [==============================] - 1s 99us/sample - loss: 0.3554 - acc: 0.8530\n",
      "Epoch 15/100\n",
      "8000/8000 [==============================] - 1s 105us/sample - loss: 0.3540 - acc: 0.8566\n",
      "Epoch 16/100\n",
      "8000/8000 [==============================] - 1s 104us/sample - loss: 0.3526 - acc: 0.8543\n",
      "Epoch 17/100\n",
      "8000/8000 [==============================] - 1s 105us/sample - loss: 0.3517 - acc: 0.8571\n",
      "Epoch 18/100\n",
      "8000/8000 [==============================] - 1s 112us/sample - loss: 0.3512 - acc: 0.8579\n",
      "Epoch 19/100\n",
      "8000/8000 [==============================] - 1s 106us/sample - loss: 0.3500 - acc: 0.8572\n",
      "Epoch 20/100\n",
      "8000/8000 [==============================] - 1s 106us/sample - loss: 0.3496 - acc: 0.8572\n",
      "Epoch 21/100\n",
      "8000/8000 [==============================] - 1s 106us/sample - loss: 0.3491 - acc: 0.8575\n",
      "Epoch 22/100\n",
      "8000/8000 [==============================] - 1s 106us/sample - loss: 0.3485 - acc: 0.8589\n",
      "Epoch 23/100\n",
      "8000/8000 [==============================] - 1s 106us/sample - loss: 0.3481 - acc: 0.8575\n",
      "Epoch 24/100\n",
      "8000/8000 [==============================] - 1s 105us/sample - loss: 0.3479 - acc: 0.8591\n",
      "Epoch 25/100\n",
      "8000/8000 [==============================] - 1s 105us/sample - loss: 0.3473 - acc: 0.8587\n",
      "Epoch 26/100\n",
      "8000/8000 [==============================] - 1s 105us/sample - loss: 0.3472 - acc: 0.8600\n",
      "Epoch 27/100\n",
      "8000/8000 [==============================] - 1s 108us/sample - loss: 0.3466 - acc: 0.8579\n",
      "Epoch 28/100\n",
      "8000/8000 [==============================] - 1s 105us/sample - loss: 0.3465 - acc: 0.8602\n",
      "Epoch 29/100\n",
      "8000/8000 [==============================] - 1s 110us/sample - loss: 0.3461 - acc: 0.8601\n",
      "Epoch 30/100\n",
      "8000/8000 [==============================] - 1s 106us/sample - loss: 0.3456 - acc: 0.8602\n",
      "Epoch 31/100\n",
      "8000/8000 [==============================] - 1s 108us/sample - loss: 0.3459 - acc: 0.8594\n",
      "Epoch 32/100\n",
      "8000/8000 [==============================] - 1s 107us/sample - loss: 0.3453 - acc: 0.8601\n",
      "Epoch 33/100\n",
      "8000/8000 [==============================] - 1s 106us/sample - loss: 0.3453 - acc: 0.8597\n",
      "Epoch 34/100\n",
      "8000/8000 [==============================] - 1s 107us/sample - loss: 0.3451 - acc: 0.8599\n",
      "Epoch 35/100\n",
      "8000/8000 [==============================] - 1s 107us/sample - loss: 0.3449 - acc: 0.8608\n",
      "Epoch 36/100\n",
      "8000/8000 [==============================] - 1s 107us/sample - loss: 0.3447 - acc: 0.8599\n",
      "Epoch 37/100\n",
      "8000/8000 [==============================] - 1s 107us/sample - loss: 0.3446 - acc: 0.8591\n",
      "Epoch 38/100\n",
      "8000/8000 [==============================] - 1s 115us/sample - loss: 0.3444 - acc: 0.8594\n",
      "Epoch 39/100\n",
      "8000/8000 [==============================] - 1s 114us/sample - loss: 0.3441 - acc: 0.8604\n",
      "Epoch 40/100\n",
      "8000/8000 [==============================] - 1s 110us/sample - loss: 0.3440 - acc: 0.8596\n",
      "Epoch 41/100\n",
      "8000/8000 [==============================] - 1s 107us/sample - loss: 0.3437 - acc: 0.8610\n",
      "Epoch 42/100\n",
      "8000/8000 [==============================] - 1s 106us/sample - loss: 0.3433 - acc: 0.8609\n",
      "Epoch 43/100\n",
      "8000/8000 [==============================] - 1s 105us/sample - loss: 0.3433 - acc: 0.8616\n",
      "Epoch 44/100\n",
      "8000/8000 [==============================] - 1s 107us/sample - loss: 0.3430 - acc: 0.8597\n",
      "Epoch 45/100\n",
      "8000/8000 [==============================] - 1s 106us/sample - loss: 0.3429 - acc: 0.8590\n",
      "Epoch 46/100\n",
      "8000/8000 [==============================] - 1s 107us/sample - loss: 0.3429 - acc: 0.8616\n",
      "Epoch 47/100\n",
      "8000/8000 [==============================] - 1s 106us/sample - loss: 0.3426 - acc: 0.8594\n",
      "Epoch 48/100\n",
      "8000/8000 [==============================] - 1s 107us/sample - loss: 0.3425 - acc: 0.8597\n",
      "Epoch 49/100\n",
      "8000/8000 [==============================] - 1s 109us/sample - loss: 0.3422 - acc: 0.8611\n",
      "Epoch 50/100\n",
      "8000/8000 [==============================] - 1s 107us/sample - loss: 0.3425 - acc: 0.8605\n",
      "Epoch 51/100\n",
      "8000/8000 [==============================] - 1s 107us/sample - loss: 0.3420 - acc: 0.8609\n",
      "Epoch 52/100\n",
      "8000/8000 [==============================] - 1s 105us/sample - loss: 0.3421 - acc: 0.8596\n",
      "Epoch 53/100\n",
      "8000/8000 [==============================] - 1s 108us/sample - loss: 0.3415 - acc: 0.8600\n",
      "Epoch 54/100\n",
      "8000/8000 [==============================] - 1s 109us/sample - loss: 0.3417 - acc: 0.8610\n",
      "Epoch 55/100\n",
      "8000/8000 [==============================] - 1s 106us/sample - loss: 0.3415 - acc: 0.8605\n",
      "Epoch 56/100\n",
      "8000/8000 [==============================] - 1s 94us/sample - loss: 0.3415 - acc: 0.8609\n",
      "Epoch 57/100\n",
      "8000/8000 [==============================] - 1s 93us/sample - loss: 0.3413 - acc: 0.8608\n",
      "Epoch 58/100\n",
      "8000/8000 [==============================] - 1s 107us/sample - loss: 0.3414 - acc: 0.8608\n",
      "Epoch 59/100\n",
      "8000/8000 [==============================] - 1s 106us/sample - loss: 0.3410 - acc: 0.8621\n",
      "Epoch 60/100\n",
      "8000/8000 [==============================] - 1s 106us/sample - loss: 0.3410 - acc: 0.8591\n",
      "Epoch 61/100\n",
      "8000/8000 [==============================] - 1s 109us/sample - loss: 0.3409 - acc: 0.8602\n",
      "Epoch 62/100\n",
      "8000/8000 [==============================] - 1s 107us/sample - loss: 0.3409 - acc: 0.8612\n",
      "Epoch 63/100\n",
      "8000/8000 [==============================] - 1s 106us/sample - loss: 0.3406 - acc: 0.8601\n",
      "Epoch 64/100\n",
      "8000/8000 [==============================] - 1s 106us/sample - loss: 0.3404 - acc: 0.8624\n",
      "Epoch 65/100\n",
      "8000/8000 [==============================] - 1s 108us/sample - loss: 0.3403 - acc: 0.8601\n",
      "Epoch 66/100\n",
      "8000/8000 [==============================] - 1s 108us/sample - loss: 0.3401 - acc: 0.8619\n",
      "Epoch 67/100\n",
      "8000/8000 [==============================] - 1s 106us/sample - loss: 0.3398 - acc: 0.8622\n",
      "Epoch 68/100\n",
      "8000/8000 [==============================] - 1s 109us/sample - loss: 0.3400 - acc: 0.8619\n",
      "Epoch 69/100\n",
      "8000/8000 [==============================] - 1s 105us/sample - loss: 0.3398 - acc: 0.8612\n",
      "Epoch 70/100\n",
      "8000/8000 [==============================] - 1s 106us/sample - loss: 0.3394 - acc: 0.8611\n",
      "Epoch 71/100\n",
      "8000/8000 [==============================] - 1s 106us/sample - loss: 0.3395 - acc: 0.8621\n",
      "Epoch 72/100\n",
      "8000/8000 [==============================] - 1s 107us/sample - loss: 0.3393 - acc: 0.8618\n",
      "Epoch 73/100\n",
      "8000/8000 [==============================] - 1s 107us/sample - loss: 0.3390 - acc: 0.8643\n",
      "Epoch 74/100\n",
      "8000/8000 [==============================] - 1s 108us/sample - loss: 0.3389 - acc: 0.8625\n",
      "Epoch 75/100\n",
      "8000/8000 [==============================] - 1s 107us/sample - loss: 0.3389 - acc: 0.8612\n",
      "Epoch 76/100\n",
      "8000/8000 [==============================] - 1s 106us/sample - loss: 0.3386 - acc: 0.8627\n",
      "Epoch 77/100\n"
     ]
    },
    {
     "name": "stdout",
     "output_type": "stream",
     "text": [
      "8000/8000 [==============================] - 1s 105us/sample - loss: 0.3382 - acc: 0.8629\n",
      "Epoch 78/100\n",
      "8000/8000 [==============================] - 1s 103us/sample - loss: 0.3383 - acc: 0.8629\n",
      "Epoch 79/100\n",
      "8000/8000 [==============================] - 1s 95us/sample - loss: 0.3382 - acc: 0.8624\n",
      "Epoch 80/100\n",
      "8000/8000 [==============================] - 1s 89us/sample - loss: 0.3378 - acc: 0.8627\n",
      "Epoch 81/100\n",
      "8000/8000 [==============================] - 1s 90us/sample - loss: 0.3378 - acc: 0.8631\n",
      "Epoch 82/100\n",
      "8000/8000 [==============================] - 1s 88us/sample - loss: 0.3375 - acc: 0.8627\n",
      "Epoch 83/100\n",
      "8000/8000 [==============================] - 1s 93us/sample - loss: 0.3377 - acc: 0.8620\n",
      "Epoch 84/100\n",
      "8000/8000 [==============================] - 1s 90us/sample - loss: 0.3369 - acc: 0.8631\n",
      "Epoch 85/100\n",
      "8000/8000 [==============================] - 1s 96us/sample - loss: 0.3372 - acc: 0.8619\n",
      "Epoch 86/100\n",
      "8000/8000 [==============================] - 1s 104us/sample - loss: 0.3370 - acc: 0.8631\n",
      "Epoch 87/100\n",
      "8000/8000 [==============================] - 1s 105us/sample - loss: 0.3367 - acc: 0.8630\n",
      "Epoch 88/100\n",
      "8000/8000 [==============================] - 1s 104us/sample - loss: 0.3366 - acc: 0.8635\n",
      "Epoch 89/100\n",
      "8000/8000 [==============================] - 1s 106us/sample - loss: 0.3365 - acc: 0.8634\n",
      "Epoch 90/100\n",
      "8000/8000 [==============================] - 1s 105us/sample - loss: 0.3363 - acc: 0.8637\n",
      "Epoch 91/100\n",
      "8000/8000 [==============================] - 1s 103us/sample - loss: 0.3361 - acc: 0.8645\n",
      "Epoch 92/100\n",
      "8000/8000 [==============================] - 1s 105us/sample - loss: 0.3361 - acc: 0.8639\n",
      "Epoch 93/100\n",
      "8000/8000 [==============================] - 1s 105us/sample - loss: 0.3361 - acc: 0.8643\n",
      "Epoch 94/100\n",
      "8000/8000 [==============================] - 1s 103us/sample - loss: 0.3359 - acc: 0.8633\n",
      "Epoch 95/100\n",
      "8000/8000 [==============================] - 1s 104us/sample - loss: 0.3360 - acc: 0.8627\n",
      "Epoch 96/100\n",
      "8000/8000 [==============================] - 1s 105us/sample - loss: 0.3354 - acc: 0.8640\n",
      "Epoch 97/100\n",
      "8000/8000 [==============================] - 1s 107us/sample - loss: 0.3359 - acc: 0.8644\n",
      "Epoch 98/100\n",
      "8000/8000 [==============================] - 1s 108us/sample - loss: 0.3357 - acc: 0.8627\n",
      "Epoch 99/100\n",
      "8000/8000 [==============================] - 1s 105us/sample - loss: 0.3355 - acc: 0.8644\n",
      "Epoch 100/100\n",
      "8000/8000 [==============================] - 1s 105us/sample - loss: 0.3355 - acc: 0.8650\n"
     ]
    },
    {
     "data": {
      "text/plain": [
       "<tensorflow.python.keras.callbacks.History at 0x1257fb66fc8>"
      ]
     },
     "execution_count": 18,
     "metadata": {},
     "output_type": "execute_result"
    }
   ],
   "source": [
    "# Part 3 - Training the ANN\n",
    "\n",
    "# Compiling the ANN\n",
    "ann.compile(optimizer = 'adam', loss = 'binary_crossentropy', metrics = ['accuracy'])\n",
    "\n",
    "# Training the ANN on the Training set\n",
    "ann.fit(X_train, y_train, batch_size = 32, epochs = 100)"
   ]
  },
  {
   "cell_type": "code",
   "execution_count": 19,
   "metadata": {},
   "outputs": [
    {
     "name": "stdout",
     "output_type": "stream",
     "text": [
      "[[0 0]\n",
      " [0 1]\n",
      " [0 0]\n",
      " ...\n",
      " [0 0]\n",
      " [0 0]\n",
      " [0 0]]\n"
     ]
    }
   ],
   "source": [
    "y_pred = ann.predict(X_test)\n",
    "y_pred = (y_pred > 0.5)\n",
    "print(np.concatenate((y_pred.reshape(len(y_pred),1), y_test.reshape(len(y_test),1)),1))"
   ]
  },
  {
   "cell_type": "code",
   "execution_count": 20,
   "metadata": {},
   "outputs": [
    {
     "data": {
      "text/plain": [
       "array([[False],\n",
       "       [False],\n",
       "       [False],\n",
       "       ...,\n",
       "       [False],\n",
       "       [False],\n",
       "       [False]])"
      ]
     },
     "execution_count": 20,
     "metadata": {},
     "output_type": "execute_result"
    }
   ],
   "source": [
    "y_pred"
   ]
  },
  {
   "cell_type": "code",
   "execution_count": 21,
   "metadata": {},
   "outputs": [
    {
     "name": "stdout",
     "output_type": "stream",
     "text": [
      "[[0 0]\n",
      " [0 1]\n",
      " [0 0]\n",
      " ...\n",
      " [0 0]\n",
      " [0 0]\n",
      " [0 0]]\n"
     ]
    }
   ],
   "source": [
    "print(np.concatenate((y_pred.reshape(len(y_pred),1), y_test.reshape(len(y_test),1)),1))"
   ]
  },
  {
   "cell_type": "code",
   "execution_count": 22,
   "metadata": {},
   "outputs": [
    {
     "name": "stdout",
     "output_type": "stream",
     "text": [
      "[[1520   75]\n",
      " [ 208  197]]\n"
     ]
    }
   ],
   "source": [
    "from sklearn.metrics import confusion_matrix\n",
    "cm = confusion_matrix(y_test, y_pred)\n",
    "print(cm)"
   ]
  },
  {
   "cell_type": "code",
   "execution_count": null,
   "metadata": {},
   "outputs": [],
   "source": []
  }
 ],
 "metadata": {
  "kernelspec": {
   "display_name": "Python 3",
   "language": "python",
   "name": "python3"
  },
  "language_info": {
   "codemirror_mode": {
    "name": "ipython",
    "version": 3
   },
   "file_extension": ".py",
   "mimetype": "text/x-python",
   "name": "python",
   "nbconvert_exporter": "python",
   "pygments_lexer": "ipython3",
   "version": "3.7.6"
  }
 },
 "nbformat": 4,
 "nbformat_minor": 4
}
